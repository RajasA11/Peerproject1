{
 "cells": [
  {
   "cell_type": "code",
   "execution_count": null,
   "id": "834db495",
   "metadata": {},
   "outputs": [],
   "source": [
    "# Data Science Notebook"
   ]
  },
  {
   "cell_type": "code",
   "execution_count": null,
   "id": "c15b7517",
   "metadata": {},
   "outputs": [],
   "source": [
    "## Introduction\n",
    "This notebook provides an overview of data science languages, libraries, tools, and some basic arithmetic operations."
   ]
  },
  {
   "cell_type": "code",
   "execution_count": null,
   "id": "d5c446f7",
   "metadata": {},
   "outputs": [],
   "source": [
    "## Data Science Languages\n",
    "- Python\n",
    "- R\n",
    "- SQL\n",
    "- Julia\n",
    "- Scala"
   ]
  },
  {
   "cell_type": "code",
   "execution_count": null,
   "id": "b043e50d",
   "metadata": {},
   "outputs": [],
   "source": [
    "## Data Science Libraries\n",
    "- NumPy\n",
    "- Pandas\n",
    "- Matplotlib\n",
    "- TensorFlow\n",
    "- Scikit-learn\n",
    "- ggplot2 (for R)"
   ]
  },
  {
   "cell_type": "code",
   "execution_count": null,
   "id": "77155b0f",
   "metadata": {},
   "outputs": [],
   "source": [
    "## Data Science Tools\n",
    "\n",
    "| Tool            | Usage                            |\n",
    "|-----------------|----------------------------------|\n",
    "| Jupyter Notebook| Interactive Coding Environment   |\n",
    "| RStudio         | R Development Environment        |\n",
    "| Apache Spark    | Big Data Processing Framework    |\n",
    "| TensorFlow      | Machine Learning Framework       |\n"
   ]
  },
  {
   "cell_type": "code",
   "execution_count": null,
   "id": "609ad3d9",
   "metadata": {},
   "outputs": [],
   "source": [
    "## Arithmetic Expression Examples\n",
    "Below are some examples of basic arithmetic operations.\n"
   ]
  },
  {
   "cell_type": "code",
   "execution_count": 1,
   "id": "7c839c91",
   "metadata": {},
   "outputs": [
    {
     "data": {
      "text/plain": [
       "33"
      ]
     },
     "execution_count": 1,
     "metadata": {},
     "output_type": "execute_result"
    }
   ],
   "source": [
    "# Multiply and add numbers\n",
    "result = (5 * 6) + 3\n",
    "result\n"
   ]
  },
  {
   "cell_type": "code",
   "execution_count": 2,
   "id": "82f10943",
   "metadata": {},
   "outputs": [
    {
     "data": {
      "text/plain": [
       "3.0"
      ]
     },
     "execution_count": 2,
     "metadata": {},
     "output_type": "execute_result"
    }
   ],
   "source": [
    "# Convert minutes to hours\n",
    "minutes = 180\n",
    "hours = minutes / 60\n",
    "hours\n"
   ]
  },
  {
   "cell_type": "code",
   "execution_count": null,
   "id": "b75a2cb3",
   "metadata": {},
   "outputs": [],
   "source": [
    "## Objectives\n",
    "- Learn about data science languages\n",
    "- Explore data science libraries\n",
    "- Understand data science tools\n",
    "- Perform basic arithmetic operations\n"
   ]
  },
  {
   "cell_type": "code",
   "execution_count": null,
   "id": "785032a5",
   "metadata": {},
   "outputs": [],
   "source": [
    "## Author\n",
    "Rajas Apte\n",
    "\n"
   ]
  }
 ],
 "metadata": {
  "kernelspec": {
   "display_name": "Python 3 (ipykernel)",
   "language": "python",
   "name": "python3"
  },
  "language_info": {
   "codemirror_mode": {
    "name": "ipython",
    "version": 3
   },
   "file_extension": ".py",
   "mimetype": "text/x-python",
   "name": "python",
   "nbconvert_exporter": "python",
   "pygments_lexer": "ipython3",
   "version": "3.11.7"
  }
 },
 "nbformat": 4,
 "nbformat_minor": 5
}
